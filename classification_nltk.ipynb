{
  "nbformat": 4,
  "nbformat_minor": 0,
  "metadata": {
    "colab": {
      "name": "classification_nltk.ipynb",
      "provenance": []
    },
    "kernelspec": {
      "name": "python3",
      "display_name": "Python 3"
    }
  },
  "cells": [
    {
      "cell_type": "code",
      "metadata": {
        "colab": {
          "base_uri": "https://localhost:8080/"
        },
        "id": "_0Ldl83VRhVB",
        "outputId": "ad87d096-dd66-4402-846a-2184c03c214c"
      },
      "source": [
        "import nltk\n",
        "nltk.usage(nltk.classify.ClassifierI)"
      ],
      "execution_count": 1,
      "outputs": [
        {
          "output_type": "stream",
          "text": [
            "ClassifierI supports the following operations:\n",
            "  - self.classify(featureset)\n",
            "  - self.classify_many(featuresets)\n",
            "  - self.labels()\n",
            "  - self.prob_classify(featureset)\n",
            "  - self.prob_classify_many(featuresets)\n"
          ],
          "name": "stdout"
        }
      ]
    },
    {
      "cell_type": "markdown",
      "metadata": {
        "id": "gZiloqR8VF9A"
      },
      "source": [
        "Let's try the NaiveBayesClassifier:"
      ]
    },
    {
      "cell_type": "code",
      "metadata": {
        "colab": {
          "base_uri": "https://localhost:8080/"
        },
        "id": "RORYTPntSWU_",
        "outputId": "94726dcf-9607-4a2e-e258-61b6900abe83"
      },
      "source": [
        "train = [\n",
        "        (dict(a=1,b=1,c=1), 'y'),\n",
        "        (dict(a=1,b=1,c=1), 'x'),\n",
        "        (dict(a=1,b=1,c=0), 'y'),\n",
        "        (dict(a=0,b=1,c=1), 'x'),\n",
        "        (dict(a=0,b=1,c=1), 'y'),\n",
        "        (dict(a=0,b=0,c=1), 'y'),\n",
        "        (dict(a=0,b=1,c=0), 'x'),\n",
        "        (dict(a=0,b=0,c=0), 'x'),\n",
        "        (dict(a=0,b=1,c=1), 'y'),\n",
        "        ]\n",
        "test = [\n",
        "        (dict(a=1,b=0,c=1)), # unseen\n",
        "        (dict(a=1,b=0,c=0)), # unseen\n",
        "        (dict(a=0,b=1,c=1)), # seen 3 times, labels=y,y,x\n",
        "        (dict(a=0,b=1,c=0)), # seen 1 time, label=x\n",
        "        ]\n",
        "classifier = nltk.classify.NaiveBayesClassifier.train(train)\n",
        "sorted(classifier.labels())"
      ],
      "execution_count": 2,
      "outputs": [
        {
          "output_type": "execute_result",
          "data": {
            "text/plain": [
              "['x', 'y']"
            ]
          },
          "metadata": {
            "tags": []
          },
          "execution_count": 2
        }
      ]
    },
    {
      "cell_type": "code",
      "metadata": {
        "colab": {
          "base_uri": "https://localhost:8080/"
        },
        "id": "YuCbzk7oStCH",
        "outputId": "295c2e6a-2475-4c8e-daa7-8c9906b40bad"
      },
      "source": [
        "classifier.classify_many(test)"
      ],
      "execution_count": 3,
      "outputs": [
        {
          "output_type": "execute_result",
          "data": {
            "text/plain": [
              "['y', 'x', 'y', 'x']"
            ]
          },
          "metadata": {
            "tags": []
          },
          "execution_count": 3
        }
      ]
    },
    {
      "cell_type": "code",
      "metadata": {
        "colab": {
          "base_uri": "https://localhost:8080/"
        },
        "id": "WlyvvKgNTOee",
        "outputId": "5dfc84c1-a0d6-4602-cfee-1dd44daf157a"
      },
      "source": [
        "for pdist in classifier.prob_classify_many(test):\n",
        "     print('%.4f %.4f' % (pdist.prob('x'), pdist.prob('y')))"
      ],
      "execution_count": 4,
      "outputs": [
        {
          "output_type": "stream",
          "text": [
            "0.3203 0.6797\n",
            "0.5857 0.4143\n",
            "0.3792 0.6208\n",
            "0.6470 0.3530\n"
          ],
          "name": "stdout"
        }
      ]
    },
    {
      "cell_type": "code",
      "metadata": {
        "colab": {
          "base_uri": "https://localhost:8080/"
        },
        "id": "gAC0awizT2qa",
        "outputId": "04d5d186-bf86-4211-c8d6-d066b9496e71"
      },
      "source": [
        "classifier.show_most_informative_features()"
      ],
      "execution_count": 5,
      "outputs": [
        {
          "output_type": "stream",
          "text": [
            "Most Informative Features\n",
            "                       c = 0                   x : y      =      2.0 : 1.0\n",
            "                       c = 1                   y : x      =      1.5 : 1.0\n",
            "                       a = 1                   y : x      =      1.4 : 1.0\n",
            "                       b = 0                   x : y      =      1.2 : 1.0\n",
            "                       a = 0                   x : y      =      1.2 : 1.0\n",
            "                       b = 1                   y : x      =      1.1 : 1.0\n"
          ],
          "name": "stdout"
        }
      ]
    },
    {
      "cell_type": "markdown",
      "metadata": {
        "id": "c_4Bu9J5VNz4"
      },
      "source": [
        "Let's try the Decision Tree"
      ]
    },
    {
      "cell_type": "code",
      "metadata": {
        "colab": {
          "base_uri": "https://localhost:8080/"
        },
        "id": "QSnCp3qkVRVJ",
        "outputId": "fd44f333-8a6e-45e0-c6d7-2067a15ad613"
      },
      "source": [
        "classifier = nltk.classify.DecisionTreeClassifier.train(\n",
        "        train, entropy_cutoff=0, support_cutoff=0)\n",
        "sorted(classifier.labels())\n",
        "\n"
      ],
      "execution_count": 8,
      "outputs": [
        {
          "output_type": "execute_result",
          "data": {
            "text/plain": [
              "['x', 'y']"
            ]
          },
          "metadata": {
            "tags": []
          },
          "execution_count": 8
        }
      ]
    },
    {
      "cell_type": "code",
      "metadata": {
        "colab": {
          "base_uri": "https://localhost:8080/"
        },
        "id": "l6EHLg2DV4Ff",
        "outputId": "4cca8181-a41e-434c-9e5d-761fc9c8f00a"
      },
      "source": [
        "print(classifier)"
      ],
      "execution_count": 9,
      "outputs": [
        {
          "output_type": "stream",
          "text": [
            "c=0? .................................................. x\n",
            "  a=0? ................................................ x\n",
            "  a=1? ................................................ y\n",
            "c=1? .................................................. y\n",
            "\n"
          ],
          "name": "stdout"
        }
      ]
    },
    {
      "cell_type": "code",
      "metadata": {
        "colab": {
          "base_uri": "https://localhost:8080/",
          "height": 120
        },
        "id": "tu1KrXYhV8EI",
        "outputId": "a1181c4e-ed70-46ff-de24-6feee05b8db6"
      },
      "source": [
        "classifier.classify_many(test)\n",
        "\n",
        "print(classifier)\n",
        "'''for pdist in classifier.prob_classify_many(test):\n",
        "    print('%.4f %.4f' % (pdist.prob('x'), pdist.prob('y')))'''"
      ],
      "execution_count": 12,
      "outputs": [
        {
          "output_type": "stream",
          "text": [
            "c=0? .................................................. x\n",
            "  a=0? ................................................ x\n",
            "  a=1? ................................................ y\n",
            "c=1? .................................................. y\n",
            "\n"
          ],
          "name": "stdout"
        },
        {
          "output_type": "execute_result",
          "data": {
            "application/vnd.google.colaboratory.intrinsic+json": {
              "type": "string"
            },
            "text/plain": [
              "\"for pdist in classifier.prob_classify_many(test):\\n    print('%.4f %.4f' % (pdist.prob('x'), pdist.prob('y')))\""
            ]
          },
          "metadata": {
            "tags": []
          },
          "execution_count": 12
        }
      ]
    },
    {
      "cell_type": "code",
      "metadata": {
        "colab": {
          "base_uri": "https://localhost:8080/"
        },
        "id": "PD_9oLhmRpwL",
        "outputId": "d37fad98-69ef-4039-a1c1-46708e5b8b9f"
      },
      "source": [
        "from nltk.classify import SklearnClassifier\n",
        "from sklearn.naive_bayes import BernoulliNB\n",
        "from sklearn.svm import SVC\n",
        "\n",
        "train_data = [({\"a\": 4, \"b\": 1, \"c\": 0}, \"ham\"),\n",
        "                  ({\"a\": 5, \"b\": 2, \"c\": 1}, \"ham\"),\n",
        "                  ({\"a\": 0, \"b\": 3, \"c\": 4}, \"spam\"),\n",
        "                  ({\"a\": 5, \"b\": 1, \"c\": 1}, \"ham\"),\n",
        "                  ({\"a\": 1, \"b\": 4, \"c\": 3}, \"spam\")]\n",
        "\n",
        "classif = SklearnClassifier(BernoulliNB()).train(train_data)\n",
        "test_data = [{\"a\": 3, \"b\": 2, \"c\": 1},\n",
        "             {\"a\": 0, \"b\": 3, \"c\": 7}]\n",
        "\n",
        "classif.classify_many(test_data)\n",
        "#print(classif.classify(gender_features('Frank')))\n",
        "#classif.show_most_informative_features(5)\n",
        "print(classif.labels())\n",
        "\n",
        "classif = SklearnClassifier(SVC(), sparse=False).train(train_data)\n",
        "classif.classify_many(test_data)\n",
        "\n",
        "print(classif.labels())"
      ],
      "execution_count": 13,
      "outputs": [
        {
          "output_type": "stream",
          "text": [
            "['ham', 'spam']\n",
            "['ham', 'spam']\n"
          ],
          "name": "stdout"
        }
      ]
    }
  ]
}